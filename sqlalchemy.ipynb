{
 "cells": [
  {
   "cell_type": "code",
   "execution_count": 33,
   "source": [
    "from sqlalchemy import create_engine, Column, Integer, Float, desc\r\n",
    "from sqlalchemy.orm import scoped_session, sessionmaker\r\n",
    "from sqlalchemy.ext.declarative import declarative_base"
   ],
   "outputs": [],
   "metadata": {}
  },
  {
   "cell_type": "code",
   "execution_count": 17,
   "source": [
    "import pandas as pd\r\n",
    "import os"
   ],
   "outputs": [],
   "metadata": {}
  },
  {
   "cell_type": "code",
   "execution_count": 18,
   "source": [
    "database_file = os.path.join(os.path.abspath(os.getcwd()), 'data.db')\r\n",
    "database_file"
   ],
   "outputs": [
    {
     "output_type": "execute_result",
     "data": {
      "text/plain": [
       "'c:\\\\Users\\\\yTonomura\\\\Documents\\\\after_2020\\\\13.Python\\\\other_basis\\\\sqlalchemy\\\\data.db'"
      ]
     },
     "metadata": {},
     "execution_count": 18
    }
   ],
   "metadata": {}
  },
  {
   "cell_type": "code",
   "execution_count": 19,
   "source": [
    "engine = create_engine('sqlite:///' + database_file, convert_unicode=True, echo=True)\r\n",
    "# engine = create_engine('sqlite:///:memory:', convert_unicode=True, echo=True)\r\n",
    "Base = declarative_base()"
   ],
   "outputs": [],
   "metadata": {}
  },
  {
   "cell_type": "code",
   "execution_count": 20,
   "source": [
    "db_session = scoped_session(\r\n",
    "   sessionmaker(\r\n",
    "      autocommit = False,\r\n",
    "      autoflush = False,\r\n",
    "      bind = engine\r\n",
    "   )\r\n",
    ")\r\n",
    "# Session = sessionmaker(autocommit = False, autoflush = False, bind = engine)\r\n",
    "# session = Session()"
   ],
   "outputs": [],
   "metadata": {}
  },
  {
   "cell_type": "code",
   "execution_count": 21,
   "source": [
    "class Wine(Base):\r\n",
    "   __tablename__ = 'wine_class'\r\n",
    "   id = Column(Integer, primary_key=True)\r\n",
    "   wine_class = Column(Integer, unique=False)\r\n",
    "   alcohol = Column(Float, unique=False)\r\n",
    "   ash = Column(Float, unique=False)\r\n",
    "   hue = Column(Float, unique=False)\r\n",
    "   proline = Column(Integer, unique=False)\r\n",
    "\r\n",
    "   def __init__(self, wine_class=None, alcohol=None, ash=None, hue=None, proline=None):\r\n",
    "      self.wine_class = wine_class\r\n",
    "      self.alcohol = alcohol\r\n",
    "      self.ash = ash\r\n",
    "      self.hue = hue\r\n",
    "      self.proline = proline\r\n"
   ],
   "outputs": [],
   "metadata": {}
  },
  {
   "cell_type": "code",
   "execution_count": 22,
   "source": [
    "Base.metadata.create_all(engine)\r\n",
    "Base.query = db_session.query_property()\r\n",
    "# session.query(Base)"
   ],
   "outputs": [
    {
     "output_type": "stream",
     "name": "stdout",
     "text": [
      "2021-07-12 16:36:24,185 INFO sqlalchemy.engine.Engine BEGIN (implicit)\n",
      "2021-07-12 16:36:24,189 INFO sqlalchemy.engine.Engine PRAGMA main.table_info(\"wine_class\")\n",
      "2021-07-12 16:36:24,192 INFO sqlalchemy.engine.Engine [raw sql] ()\n",
      "2021-07-12 16:36:24,200 INFO sqlalchemy.engine.Engine PRAGMA temp.table_info(\"wine_class\")\n",
      "2021-07-12 16:36:24,202 INFO sqlalchemy.engine.Engine [raw sql] ()\n",
      "2021-07-12 16:36:24,209 INFO sqlalchemy.engine.Engine \n",
      "CREATE TABLE wine_class (\n",
      "\tid INTEGER NOT NULL, \n",
      "\twine_class INTEGER, \n",
      "\talcohol FLOAT, \n",
      "\tash FLOAT, \n",
      "\thue FLOAT, \n",
      "\tproline INTEGER, \n",
      "\tPRIMARY KEY (id)\n",
      ")\n",
      "\n",
      "\n",
      "2021-07-12 16:36:24,211 INFO sqlalchemy.engine.Engine [no key 0.00192s] ()\n",
      "2021-07-12 16:36:24,229 INFO sqlalchemy.engine.Engine COMMIT\n"
     ]
    }
   ],
   "metadata": {}
  },
  {
   "cell_type": "code",
   "execution_count": 23,
   "source": [
    "def read_data():\r\n",
    "   wine_df = pd.read_csv('wine_class.csv')\r\n",
    "\r\n",
    "   for index, _df in wine_df.iterrows():\r\n",
    "      row = Wine(wine_class=_df['Class'], alcohol=_df['Alcohol'], ash=_df['Ash'], hue=_df['Hue'], proline=_df['Proline'])\r\n",
    "      db_session.add(row)\r\n",
    "      # session.add(row)\r\n",
    "\r\n",
    "   db_session.commit()\r\n",
    "   # session.commit()"
   ],
   "outputs": [],
   "metadata": {}
  },
  {
   "cell_type": "code",
   "execution_count": null,
   "source": [
    "read_data()"
   ],
   "outputs": [],
   "metadata": {}
  },
  {
   "cell_type": "code",
   "execution_count": 25,
   "source": [
    "# CRUD\r\n",
    "db = db_session.query(Wine).all()"
   ],
   "outputs": [
    {
     "output_type": "stream",
     "name": "stdout",
     "text": [
      "2021-07-12 16:37:53,367 INFO sqlalchemy.engine.Engine BEGIN (implicit)\n",
      "2021-07-12 16:37:53,372 INFO sqlalchemy.engine.Engine SELECT wine_class.id AS wine_class_id, wine_class.wine_class AS wine_class_wine_class, wine_class.alcohol AS wine_class_alcohol, wine_class.ash AS wine_class_ash, wine_class.hue AS wine_class_hue, wine_class.proline AS wine_class_proline \n",
      "FROM wine_class\n",
      "2021-07-12 16:37:53,374 INFO sqlalchemy.engine.Engine [generated in 0.00201s] ()\n"
     ]
    }
   ],
   "metadata": {}
  },
  {
   "cell_type": "code",
   "execution_count": null,
   "source": [
    "for row in db:\r\n",
    "   print(row.alcohol, row.ash)"
   ],
   "outputs": [],
   "metadata": {}
  },
  {
   "cell_type": "code",
   "execution_count": 30,
   "source": [
    "# Basic\r\n",
    "db = db_session.query(Wine.hue, Wine.proline).all()"
   ],
   "outputs": [
    {
     "output_type": "stream",
     "name": "stdout",
     "text": [
      "2021-07-12 16:42:57,299 INFO sqlalchemy.engine.Engine SELECT wine_class.hue AS wine_class_hue, wine_class.proline AS wine_class_proline \n",
      "FROM wine_class\n",
      "2021-07-12 16:42:57,302 INFO sqlalchemy.engine.Engine [cached since 154s ago] ()\n"
     ]
    }
   ],
   "metadata": {}
  },
  {
   "cell_type": "code",
   "execution_count": 31,
   "source": [
    "# Filter\r\n",
    "db = db_session.query(Wine).filter(Wine.hue > 1.0).all()\r\n",
    "# session.query(Wine).filter_by(hue > 1.0)"
   ],
   "outputs": [
    {
     "output_type": "stream",
     "name": "stdout",
     "text": [
      "2021-07-12 16:42:58,212 INFO sqlalchemy.engine.Engine SELECT wine_class.id AS wine_class_id, wine_class.wine_class AS wine_class_wine_class, wine_class.alcohol AS wine_class_alcohol, wine_class.ash AS wine_class_ash, wine_class.hue AS wine_class_hue, wine_class.proline AS wine_class_proline \n",
      "FROM wine_class \n",
      "WHERE wine_class.hue > ?\n",
      "2021-07-12 16:42:58,216 INFO sqlalchemy.engine.Engine [cached since 20.99s ago] (1.0,)\n"
     ]
    }
   ],
   "metadata": {}
  },
  {
   "cell_type": "code",
   "execution_count": 32,
   "source": [
    "# Limitation\r\n",
    "db = db_session.query(Wine).limit(20).all()"
   ],
   "outputs": [
    {
     "output_type": "stream",
     "name": "stdout",
     "text": [
      "2021-07-12 16:43:59,883 INFO sqlalchemy.engine.Engine SELECT wine_class.id AS wine_class_id, wine_class.wine_class AS wine_class_wine_class, wine_class.alcohol AS wine_class_alcohol, wine_class.ash AS wine_class_ash, wine_class.hue AS wine_class_hue, wine_class.proline AS wine_class_proline \n",
      "FROM wine_class\n",
      " LIMIT ? OFFSET ?\n",
      "2021-07-12 16:43:59,888 INFO sqlalchemy.engine.Engine [generated in 0.00189s] (20, 0)\n"
     ]
    }
   ],
   "metadata": {}
  },
  {
   "cell_type": "code",
   "execution_count": 35,
   "source": [
    "# Sort\r\n",
    "db = db_session.query(Wine).order_by(desc(Wine.hue)).all()"
   ],
   "outputs": [
    {
     "output_type": "stream",
     "name": "stdout",
     "text": [
      "2021-07-12 16:45:29,304 INFO sqlalchemy.engine.Engine SELECT wine_class.id AS wine_class_id, wine_class.wine_class AS wine_class_wine_class, wine_class.alcohol AS wine_class_alcohol, wine_class.ash AS wine_class_ash, wine_class.hue AS wine_class_hue, wine_class.proline AS wine_class_proline \n",
      "FROM wine_class ORDER BY wine_class.hue DESC\n",
      "2021-07-12 16:45:29,310 INFO sqlalchemy.engine.Engine [cached since 2.314s ago] ()\n"
     ]
    }
   ],
   "metadata": {}
  },
  {
   "cell_type": "code",
   "execution_count": 36,
   "source": [
    "# Create\r\n",
    "wine = Wine(wine_class=1, alcohol=1, ash=1, hue=1, proline=1)\r\n",
    "db_session.add(wine)\r\n",
    "db_session.commit()"
   ],
   "outputs": [
    {
     "output_type": "stream",
     "name": "stdout",
     "text": [
      "2021-07-12 16:50:48,848 INFO sqlalchemy.engine.Engine INSERT INTO wine_class (wine_class, alcohol, ash, hue, proline) VALUES (?, ?, ?, ?, ?)\n",
      "2021-07-12 16:50:48,856 INFO sqlalchemy.engine.Engine [cached since 864s ago] (1, 1.0, 1.0, 1.0, 1)\n",
      "2021-07-12 16:50:48,863 INFO sqlalchemy.engine.Engine COMMIT\n"
     ]
    }
   ],
   "metadata": {}
  },
  {
   "cell_type": "code",
   "execution_count": 37,
   "source": [
    "# Update\r\n",
    "db = db_session.query(Wine).filter(Wine.proline == 1).first()\r\n",
    "db.wine_class = 10\r\n",
    "db_session.commit()"
   ],
   "outputs": [
    {
     "output_type": "stream",
     "name": "stdout",
     "text": [
      "2021-07-12 16:52:30,664 INFO sqlalchemy.engine.Engine BEGIN (implicit)\n",
      "2021-07-12 16:52:30,668 INFO sqlalchemy.engine.Engine SELECT wine_class.id AS wine_class_id, wine_class.wine_class AS wine_class_wine_class, wine_class.alcohol AS wine_class_alcohol, wine_class.ash AS wine_class_ash, wine_class.hue AS wine_class_hue, wine_class.proline AS wine_class_proline \n",
      "FROM wine_class \n",
      "WHERE wine_class.proline = ?\n",
      " LIMIT ? OFFSET ?\n",
      "2021-07-12 16:52:30,671 INFO sqlalchemy.engine.Engine [generated in 0.00175s] (1, 1, 0)\n",
      "2021-07-12 16:52:30,674 INFO sqlalchemy.engine.Engine UPDATE wine_class SET wine_class=? WHERE wine_class.id = ?\n",
      "2021-07-12 16:52:30,677 INFO sqlalchemy.engine.Engine [generated in 0.00133s] (10, 179)\n",
      "2021-07-12 16:52:30,681 INFO sqlalchemy.engine.Engine COMMIT\n"
     ]
    }
   ],
   "metadata": {}
  },
  {
   "cell_type": "code",
   "execution_count": 43,
   "source": [
    "db_session.query(Wine).filter(Wine.proline == 1).first().wine_class"
   ],
   "outputs": [
    {
     "output_type": "stream",
     "name": "stdout",
     "text": [
      "2021-07-12 16:53:51,438 INFO sqlalchemy.engine.Engine SELECT wine_class.id AS wine_class_id, wine_class.wine_class AS wine_class_wine_class, wine_class.alcohol AS wine_class_alcohol, wine_class.ash AS wine_class_ash, wine_class.hue AS wine_class_hue, wine_class.proline AS wine_class_proline \n",
      "FROM wine_class \n",
      "WHERE wine_class.proline = ?\n",
      " LIMIT ? OFFSET ?\n",
      "2021-07-12 16:53:51,447 INFO sqlalchemy.engine.Engine [cached since 80.78s ago] (1, 1, 0)\n"
     ]
    },
    {
     "output_type": "execute_result",
     "data": {
      "text/plain": [
       "10"
      ]
     },
     "metadata": {},
     "execution_count": 43
    }
   ],
   "metadata": {}
  },
  {
   "cell_type": "code",
   "execution_count": 44,
   "source": [
    "# Delete\r\n",
    "db_session.query(Wine).filter(Wine.proline == 1).delete()"
   ],
   "outputs": [
    {
     "output_type": "stream",
     "name": "stdout",
     "text": [
      "2021-07-12 16:54:26,659 INFO sqlalchemy.engine.Engine DELETE FROM wine_class WHERE wine_class.proline = ?\n",
      "2021-07-12 16:54:26,661 INFO sqlalchemy.engine.Engine [generated in 0.00236s] (1,)\n"
     ]
    },
    {
     "output_type": "execute_result",
     "data": {
      "text/plain": [
       "1"
      ]
     },
     "metadata": {},
     "execution_count": 44
    }
   ],
   "metadata": {}
  },
  {
   "cell_type": "code",
   "execution_count": 46,
   "source": [
    "for row in db_session.query(Wine).all():\r\n",
    "   print(row.proline)"
   ],
   "outputs": [
    {
     "output_type": "stream",
     "name": "stdout",
     "text": [
      "2021-07-12 16:56:11,946 INFO sqlalchemy.engine.Engine SELECT wine_class.id AS wine_class_id, wine_class.wine_class AS wine_class_wine_class, wine_class.alcohol AS wine_class_alcohol, wine_class.ash AS wine_class_ash, wine_class.hue AS wine_class_hue, wine_class.proline AS wine_class_proline \n",
      "FROM wine_class\n",
      "2021-07-12 16:56:11,950 INFO sqlalchemy.engine.Engine [cached since 1099s ago] ()\n",
      "1065\n",
      "1050\n",
      "1185\n",
      "1480\n",
      "735\n",
      "1450\n",
      "1290\n",
      "1295\n",
      "1045\n",
      "1045\n",
      "1510\n",
      "1280\n",
      "1320\n",
      "1150\n",
      "1547\n",
      "1310\n",
      "1280\n",
      "1130\n",
      "1680\n",
      "845\n",
      "780\n",
      "770\n",
      "1035\n",
      "1015\n",
      "845\n",
      "830\n",
      "1195\n",
      "1285\n",
      "915\n",
      "1035\n",
      "1285\n",
      "1515\n",
      "990\n",
      "1235\n",
      "1095\n",
      "920\n",
      "880\n",
      "1105\n",
      "1020\n",
      "760\n",
      "795\n",
      "1035\n",
      "1095\n",
      "680\n",
      "885\n",
      "1080\n",
      "1065\n",
      "985\n",
      "1060\n",
      "1260\n",
      "1150\n",
      "1265\n",
      "1190\n",
      "1375\n",
      "1060\n",
      "1120\n",
      "970\n",
      "1270\n",
      "1285\n",
      "520\n",
      "680\n",
      "450\n",
      "630\n",
      "420\n",
      "355\n",
      "678\n",
      "502\n",
      "510\n",
      "750\n",
      "718\n",
      "870\n",
      "410\n",
      "472\n",
      "985\n",
      "886\n",
      "428\n",
      "392\n",
      "500\n",
      "750\n",
      "463\n",
      "278\n",
      "714\n",
      "630\n",
      "515\n",
      "520\n",
      "450\n",
      "495\n",
      "562\n",
      "680\n",
      "625\n",
      "480\n",
      "450\n",
      "495\n",
      "290\n",
      "345\n",
      "937\n",
      "625\n",
      "428\n",
      "660\n",
      "406\n",
      "710\n",
      "562\n",
      "438\n",
      "415\n",
      "672\n",
      "315\n",
      "510\n",
      "488\n",
      "312\n",
      "680\n",
      "562\n",
      "325\n",
      "607\n",
      "434\n",
      "385\n",
      "407\n",
      "495\n",
      "345\n",
      "372\n",
      "564\n",
      "625\n",
      "465\n",
      "365\n",
      "380\n",
      "380\n",
      "378\n",
      "352\n",
      "466\n",
      "342\n",
      "580\n",
      "630\n",
      "530\n",
      "560\n",
      "600\n",
      "650\n",
      "695\n",
      "720\n",
      "515\n",
      "580\n",
      "590\n",
      "600\n",
      "780\n",
      "520\n",
      "550\n",
      "855\n",
      "830\n",
      "415\n",
      "625\n",
      "650\n",
      "550\n",
      "500\n",
      "480\n",
      "425\n",
      "675\n",
      "640\n",
      "725\n",
      "480\n",
      "880\n",
      "660\n",
      "620\n",
      "520\n",
      "680\n",
      "570\n",
      "675\n",
      "615\n",
      "520\n",
      "695\n",
      "685\n",
      "750\n",
      "630\n",
      "510\n",
      "470\n",
      "660\n",
      "740\n",
      "750\n",
      "835\n",
      "840\n",
      "560\n"
     ]
    }
   ],
   "metadata": {}
  },
  {
   "cell_type": "code",
   "execution_count": null,
   "source": [],
   "outputs": [],
   "metadata": {}
  }
 ],
 "metadata": {
  "orig_nbformat": 4,
  "language_info": {
   "name": "python"
  }
 },
 "nbformat": 4,
 "nbformat_minor": 2
}